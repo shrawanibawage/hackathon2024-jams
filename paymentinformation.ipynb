{
 "cells": [
  {
   "cell_type": "code",
   "execution_count": 4,
   "metadata": {},
   "outputs": [
    {
     "name": "stdout",
     "output_type": "stream",
     "text": [
      "Created table PaymentDataTable\n",
      "Inserted entity: {'PartitionKey': 'Store1', 'RowKey': '1707053139.642481', 'TransactionAmount': 5.85, 'PaymentMethod': 'CreditCard', 'ItemizedBreakdown': \"[{'item':'Coke', 'price':1.99}, {'item':'Chewing Gum', 'price':2.00} ]\", 'CustomerID': '12345', 'CashierID': 'Cashier1', 'FirstName': 'Shrawani', 'LastName': 'Bawage', 'TransactionDate': '2024-02-04T07:25:39.642481'}\n"
     ]
    }
   ],
   "source": [
    "from azure.data.tables import TableServiceClient\n",
    "from azure.core.exceptions import ResourceExistsError\n",
    "import datetime\n",
    "import os\n",
    "\n",
    "def create_table_if_not_exists(table_service_client, table_name):\n",
    "    try:\n",
    "        table_client = table_service_client.create_table_if_not_exists(table_name=table_name)\n",
    "        print(f\"Created table {table_name}\")\n",
    "        return table_client\n",
    "    except ResourceExistsError:\n",
    "        print(f\"Table {table_name} already exists\")\n",
    "\n",
    "def insert_entity_to_table(table_client, entity):\n",
    "    try:\n",
    "        table_client.create_entity(entity=entity)\n",
    "        print(f\"Inserted entity: {entity}\")\n",
    "    except ResourceExistsError:\n",
    "        print(f\"Entity already exists in the table\")\n",
    "\n",
    "# Replace with your connection string\n",
    "connection_string = os.getenv('AZURE_STORAGE_CONNECTION_STRING')\n",
    "\n",
    "# Replace with your table name\n",
    "table_name = \"PaymentDataTable\"\n",
    "\n",
    "# Create a TableServiceClient using a connection string\n",
    "table_service_client = TableServiceClient.from_connection_string(conn_str=connection_string)\n",
    "\n",
    "# Create the table if it does not exist\n",
    "table_client = create_table_if_not_exists(table_service_client, table_name)\n",
    "\n",
    "# Define your POS data entity (row) to add to the table\n",
    "# This is a sample structure. Modify it according to your actual POS data structure\n",
    "pos_data_entity = {\n",
    "    \"PartitionKey\": \"Store1\",  # For example, store location or ID\n",
    "    \"RowKey\": str(datetime.datetime.utcnow().timestamp()),  # Unique row key, e.g., a timestamp\n",
    "    \"TransactionAmount\": 5.85,\n",
    "    \"PaymentMethod\": \"CreditCard\",\n",
    "    \"ItemizedBreakdown\": \"[{'item':'Coke', 'price':1.99}, {'item':'Chewing Gum', 'price':2.00} ]\",\n",
    "    \"CustomerID\": \"12345\",\n",
    "    \"CashierID\": \"Cashier1\",\n",
    "    \"FirstName\": \"Shrawani\",\n",
    "    \"LastName\": \"Bawage\",\n",
    "    \"TransactionDate\": datetime.datetime.utcnow().isoformat(),\n",
    "    # Add more fields as needed\n",
    "}\n",
    "\n",
    "# Insert the POS data entity\n",
    "insert_entity_to_table(table_client, pos_data_entity)\n"
   ]
  }
 ],
 "metadata": {
  "kernelspec": {
   "display_name": "Python 3",
   "language": "python",
   "name": "python3"
  },
  "language_info": {
   "codemirror_mode": {
    "name": "ipython",
    "version": 3
   },
   "file_extension": ".py",
   "mimetype": "text/x-python",
   "name": "python",
   "nbconvert_exporter": "python",
   "pygments_lexer": "ipython3",
   "version": "3.11.4"
  },
  "orig_nbformat": 4
 },
 "nbformat": 4,
 "nbformat_minor": 2
}
