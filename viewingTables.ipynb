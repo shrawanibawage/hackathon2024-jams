{
 "cells": [
  {
   "cell_type": "code",
   "execution_count": 12,
   "metadata": {},
   "outputs": [
    {
     "name": "stdout",
     "output_type": "stream",
     "text": [
      "{'PartitionKey': 'TX', 'RowKey': '2024-02-03 23:43:19.966817-06:00', 'CaptureTime': TablesEntityDatetime(2024, 2, 4, 5, 43, 19, 966817, tzinfo=datetime.timezone.utc), 'State': 'TX', 'ShortState': 'TX', 'LicensePlate': 'lvl +0106', 'Description': 'RAM 1500 Limited', 'RegistrationYear': '2019', 'CarMake': 'RAM', 'CarModel': '1500', 'BodyStyle': 'Pickup', 'EngineSize': '5.7L'}\n"
     ]
    }
   ],
   "source": [
    "from azure.data.tables import TableServiceClient\n",
    "\n",
    "# Set your Azure Storage connection string\n",
    "connection_string = \"DefaultEndpointsProtocol=https;AccountName=customerprofile;AccountKey=cyVAvDM1rAwKv80HDN2xT+on06xVEXoTd9S5ef3WVg8W0iarZFWhGl4z1yQwSl4CL6amZMggc7Vm+AStx0dhag==;EndpointSuffix=core.windows.net\"\n",
    "\n",
    "# Create a TableServiceClient using the connection string\n",
    "table_service = TableServiceClient.from_connection_string(conn_str=connection_string)\n",
    "\n",
    "# Name of the table you want to query\n",
    "table_name = 'VehicleData'\n",
    "\n",
    "# Get a client for the table\n",
    "table_client = table_service.get_table_client(table_name=table_name)\n",
    "\n",
    "# Fetch the entities\n",
    "entities = table_client.list_entities()\n",
    "\n",
    "# Display the entities\n",
    "for entity in entities:\n",
    "    print(entity)\n"
   ]
  },
  {
   "cell_type": "code",
   "execution_count": 13,
   "metadata": {},
   "outputs": [
    {
     "name": "stdout",
     "output_type": "stream",
     "text": [
      "{'PartitionKey': 'Store1', 'RowKey': '1707053139.642481', 'TransactionAmount': 5.85, 'PaymentMethod': 'CreditCard', 'ItemizedBreakdown': \"[{'item':'Coke', 'price':1.99}, {'item':'Chewing Gum', 'price':2.00} ]\", 'CustomerID': '12345', 'CashierID': 'Cashier1', 'FirstName': 'Shrawani', 'LastName': 'Bawage', 'TransactionDate': '2024-02-04T07:25:39.642481'}\n"
     ]
    }
   ],
   "source": [
    "from azure.data.tables import TableServiceClient\n",
    "\n",
    "# Set your Azure Storage connection string\n",
    "connection_string = \"DefaultEndpointsProtocol=https;AccountName=customerprofile;AccountKey=cyVAvDM1rAwKv80HDN2xT+on06xVEXoTd9S5ef3WVg8W0iarZFWhGl4z1yQwSl4CL6amZMggc7Vm+AStx0dhag==;EndpointSuffix=core.windows.net\"\n",
    "\n",
    "# Create a TableServiceClient using the connection string\n",
    "table_service = TableServiceClient.from_connection_string(conn_str=connection_string)\n",
    "\n",
    "# Name of the table you want to query\n",
    "table_name1 = 'PaymentDataTable'\n",
    "\n",
    "# Get a client for the table\n",
    "table_client = table_service.get_table_client(table_name=table_name1)\n",
    "\n",
    "# Fetch the entities\n",
    "entities = table_client.list_entities()\n",
    "\n",
    "# Display the entities\n",
    "for entity in entities:\n",
    "    print(entity)\n"
   ]
  }
 ],
 "metadata": {
  "kernelspec": {
   "display_name": "Python 3",
   "language": "python",
   "name": "python3"
  },
  "language_info": {
   "codemirror_mode": {
    "name": "ipython",
    "version": 3
   },
   "file_extension": ".py",
   "mimetype": "text/x-python",
   "name": "python",
   "nbconvert_exporter": "python",
   "pygments_lexer": "ipython3",
   "version": "3.11.4"
  },
  "orig_nbformat": 4
 },
 "nbformat": 4,
 "nbformat_minor": 2
}
